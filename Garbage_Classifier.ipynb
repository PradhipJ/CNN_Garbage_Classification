{
 "cells": [
  {
   "cell_type": "markdown",
   "metadata": {
    "id": "DS_pAu2ynsU6"
   },
   "source": [
    "**Importing Libraries**"
   ]
  },
  {
   "cell_type": "code",
   "execution_count": 1,
   "metadata": {
    "id": "H2Ohkq8I8y4f"
   },
   "outputs": [],
   "source": [
    "import tensorflow as tf\n",
    "from keras.preprocessing.image import ImageDataGenerator"
   ]
  },
  {
   "cell_type": "markdown",
   "metadata": {
    "id": "qITdZQDgnyXD"
   },
   "source": [
    "**Creating training and testing datasets**"
   ]
  },
  {
   "cell_type": "code",
   "execution_count": 2,
   "metadata": {
    "id": "k8ww8twJ9T9B"
   },
   "outputs": [],
   "source": [
    "train_datagen = ImageDataGenerator(rescale = 1./255, shear_range = 0.2, zoom_range = 0.2, horizontal_flip = True)"
   ]
  },
  {
   "cell_type": "code",
   "execution_count": 3,
   "metadata": {
    "colab": {
     "base_uri": "https://localhost:8080/"
    },
    "id": "5g1D-xKxjxUe",
    "outputId": "ee54d5f1-efc6-462f-ce93-80f130cc268d"
   },
   "outputs": [
    {
     "name": "stdout",
     "output_type": "stream",
     "text": [
      "Found 2187 images belonging to 7 classes.\n"
     ]
    }
   ],
   "source": [
    "training_set = train_datagen.flow_from_directory('train', target_size=(64, 64), batch_size = 32, class_mode='categorical')"
   ]
  },
  {
   "cell_type": "code",
   "execution_count": 4,
   "metadata": {
    "id": "JyEeuwSHkMl1"
   },
   "outputs": [],
   "source": [
    "test_datagen = ImageDataGenerator(rescale = 1./255)"
   ]
  },
  {
   "cell_type": "code",
   "execution_count": 5,
   "metadata": {
    "colab": {
     "base_uri": "https://localhost:8080/"
    },
    "id": "2-eqQcjtk1eF",
    "outputId": "0f86a1c4-2ad6-4168-b2fc-81fff8058fec"
   },
   "outputs": [
    {
     "name": "stdout",
     "output_type": "stream",
     "text": [
      "Found 564 images belonging to 7 classes.\n"
     ]
    }
   ],
   "source": [
    "testing_set = test_datagen.flow_from_directory('test', target_size=(64, 64), batch_size = 32, class_mode='categorical')"
   ]
  },
  {
   "cell_type": "markdown",
   "metadata": {
    "id": "W2wwE864n2V_"
   },
   "source": [
    "**Building CNN**"
   ]
  },
  {
   "cell_type": "markdown",
   "metadata": {
    "id": "EHpbYPl4q4nR"
   },
   "source": [
    "*Creating CNN*"
   ]
  },
  {
   "cell_type": "code",
   "execution_count": 6,
   "metadata": {
    "id": "B_15m8d4lNz1"
   },
   "outputs": [],
   "source": [
    "cnn = tf.keras.models.Sequential()"
   ]
  },
  {
   "cell_type": "markdown",
   "metadata": {
    "id": "y5klb2__q8ky"
   },
   "source": [
    "*Adding first Convolutional Layer*"
   ]
  },
  {
   "cell_type": "code",
   "execution_count": 7,
   "metadata": {
    "id": "D1j8tuyMoFDD"
   },
   "outputs": [],
   "source": [
    "cnn.add(tf.keras.layers.Conv2D(filters=32, kernel_size = 3, activation='relu', input_shape = [64, 64, 3]))"
   ]
  },
  {
   "cell_type": "markdown",
   "metadata": {
    "id": "cHrFsfNNrAgg"
   },
   "source": [
    "*Adding Pooling Layer*"
   ]
  },
  {
   "cell_type": "code",
   "execution_count": 8,
   "metadata": {
    "id": "y_j_oJESpXfd"
   },
   "outputs": [],
   "source": [
    "cnn.add(tf.keras.layers.MaxPool2D(pool_size = 2, strides = 2))"
   ]
  },
  {
   "cell_type": "markdown",
   "metadata": {
    "id": "XXeH-8ufrEnP"
   },
   "source": [
    "*Adding Second Convolutional Layer*"
   ]
  },
  {
   "cell_type": "code",
   "execution_count": 9,
   "metadata": {
    "id": "IWCC8eLEqgTs"
   },
   "outputs": [],
   "source": [
    "cnn.add(tf.keras.layers.Conv2D(filters=32, kernel_size = 3, activation='relu'))\n",
    "cnn.add(tf.keras.layers.MaxPool2D(pool_size = 2, strides = 2))"
   ]
  },
  {
   "cell_type": "markdown",
   "metadata": {
    "id": "jKuU1NJerJoH"
   },
   "source": [
    "*Flattening*"
   ]
  },
  {
   "cell_type": "code",
   "execution_count": 10,
   "metadata": {
    "id": "pcAtiaO6q3Pd"
   },
   "outputs": [],
   "source": [
    "cnn.add(tf.keras.layers.Flatten())"
   ]
  },
  {
   "cell_type": "markdown",
   "metadata": {
    "id": "20XPxdyJrfPw"
   },
   "source": [
    "*Full Connection*"
   ]
  },
  {
   "cell_type": "code",
   "execution_count": 11,
   "metadata": {
    "id": "f1pbdB53rpSc"
   },
   "outputs": [],
   "source": [
    "cnn.add(tf.keras.layers.Dense(units = 128, activation = 'relu'))"
   ]
  },
  {
   "cell_type": "markdown",
   "metadata": {
    "id": "xUdGn20gsILh"
   },
   "source": [
    "*Output Layer*"
   ]
  },
  {
   "cell_type": "code",
   "execution_count": 12,
   "metadata": {
    "id": "n9giRoaFrcZE"
   },
   "outputs": [],
   "source": [
    "cnn.add(tf.keras.layers.Dense(units = 7, activation = 'softmax'))"
   ]
  },
  {
   "cell_type": "markdown",
   "metadata": {
    "id": "hZUUvSpruDPp"
   },
   "source": [
    "**Compiling the CNN**"
   ]
  },
  {
   "cell_type": "code",
   "execution_count": 13,
   "metadata": {
    "id": "K2WPi4LrtCck"
   },
   "outputs": [],
   "source": [
    "cnn.compile(optimizer = 'adam', loss = 'categorical_crossentropy', metrics = ['accuracy'])"
   ]
  },
  {
   "cell_type": "markdown",
   "metadata": {
    "id": "6kwyS0GWwYwc"
   },
   "source": [
    "**Training the CNN**"
   ]
  },
  {
   "cell_type": "code",
   "execution_count": 14,
   "metadata": {
    "colab": {
     "base_uri": "https://localhost:8080/",
     "height": 345
    },
    "id": "vOzXjoAMwXpb",
    "outputId": "0ef02668-809a-4e11-ca91-dfb22d0c7383"
   },
   "outputs": [
    {
     "name": "stdout",
     "output_type": "stream",
     "text": [
      "Epoch 1/25\n",
      "69/69 [==============================] - 23s 317ms/step - loss: 1.8124 - accuracy: 0.2428 - val_loss: 1.7232 - val_accuracy: 0.3032\n",
      "Epoch 2/25\n",
      "69/69 [==============================] - 9s 126ms/step - loss: 1.5099 - accuracy: 0.4070 - val_loss: 1.4638 - val_accuracy: 0.4291\n",
      "Epoch 3/25\n",
      "69/69 [==============================] - 9s 127ms/step - loss: 1.3638 - accuracy: 0.4842 - val_loss: 1.4550 - val_accuracy: 0.5106\n",
      "Epoch 4/25\n",
      "69/69 [==============================] - 9s 127ms/step - loss: 1.2876 - accuracy: 0.5199 - val_loss: 1.3637 - val_accuracy: 0.5177\n",
      "Epoch 5/25\n",
      "69/69 [==============================] - 9s 128ms/step - loss: 1.2309 - accuracy: 0.5569 - val_loss: 1.4275 - val_accuracy: 0.4858\n",
      "Epoch 6/25\n",
      "69/69 [==============================] - 9s 126ms/step - loss: 1.1894 - accuracy: 0.5693 - val_loss: 1.3127 - val_accuracy: 0.5089\n",
      "Epoch 7/25\n",
      "69/69 [==============================] - 9s 125ms/step - loss: 1.1308 - accuracy: 0.5871 - val_loss: 1.4789 - val_accuracy: 0.5142\n",
      "Epoch 8/25\n",
      "69/69 [==============================] - 9s 124ms/step - loss: 1.0704 - accuracy: 0.6036 - val_loss: 1.1547 - val_accuracy: 0.5887\n",
      "Epoch 9/25\n",
      "69/69 [==============================] - 9s 126ms/step - loss: 1.0300 - accuracy: 0.6182 - val_loss: 1.2830 - val_accuracy: 0.5762\n",
      "Epoch 10/25\n",
      "69/69 [==============================] - 9s 126ms/step - loss: 0.9798 - accuracy: 0.6392 - val_loss: 1.2030 - val_accuracy: 0.5993\n",
      "Epoch 11/25\n",
      "69/69 [==============================] - 9s 124ms/step - loss: 0.9703 - accuracy: 0.6534 - val_loss: 1.1634 - val_accuracy: 0.6135\n",
      "Epoch 12/25\n",
      "69/69 [==============================] - 9s 125ms/step - loss: 0.9154 - accuracy: 0.6548 - val_loss: 1.0808 - val_accuracy: 0.6330\n",
      "Epoch 13/25\n",
      "69/69 [==============================] - 9s 125ms/step - loss: 0.8693 - accuracy: 0.6845 - val_loss: 1.1680 - val_accuracy: 0.6223\n",
      "Epoch 14/25\n",
      "69/69 [==============================] - 9s 124ms/step - loss: 0.8211 - accuracy: 0.7087 - val_loss: 1.0557 - val_accuracy: 0.6631\n",
      "Epoch 15/25\n",
      "69/69 [==============================] - 9s 125ms/step - loss: 0.8121 - accuracy: 0.7060 - val_loss: 1.1363 - val_accuracy: 0.6277\n",
      "Epoch 16/25\n",
      "69/69 [==============================] - 9s 125ms/step - loss: 0.7672 - accuracy: 0.7275 - val_loss: 1.1671 - val_accuracy: 0.5993\n",
      "Epoch 17/25\n",
      "69/69 [==============================] - 9s 126ms/step - loss: 0.7520 - accuracy: 0.7353 - val_loss: 1.3596 - val_accuracy: 0.5567\n",
      "Epoch 18/25\n",
      "69/69 [==============================] - 9s 125ms/step - loss: 0.8092 - accuracy: 0.7010 - val_loss: 1.1704 - val_accuracy: 0.6152\n",
      "Epoch 19/25\n",
      "69/69 [==============================] - 9s 126ms/step - loss: 0.7415 - accuracy: 0.7353 - val_loss: 1.3071 - val_accuracy: 0.5975\n",
      "Epoch 20/25\n",
      "69/69 [==============================] - 9s 127ms/step - loss: 0.6913 - accuracy: 0.7549 - val_loss: 1.0972 - val_accuracy: 0.6489\n",
      "Epoch 21/25\n",
      "69/69 [==============================] - 9s 126ms/step - loss: 0.6871 - accuracy: 0.7613 - val_loss: 1.0822 - val_accuracy: 0.6773\n",
      "Epoch 22/25\n",
      "69/69 [==============================] - 9s 126ms/step - loss: 0.6589 - accuracy: 0.7727 - val_loss: 1.2509 - val_accuracy: 0.6383\n",
      "Epoch 23/25\n",
      "69/69 [==============================] - 9s 124ms/step - loss: 0.6414 - accuracy: 0.7714 - val_loss: 1.1274 - val_accuracy: 0.6436\n",
      "Epoch 24/25\n",
      "69/69 [==============================] - 9s 127ms/step - loss: 0.5997 - accuracy: 0.7865 - val_loss: 1.0146 - val_accuracy: 0.6862\n",
      "Epoch 25/25\n",
      "69/69 [==============================] - 9s 125ms/step - loss: 0.5885 - accuracy: 0.7961 - val_loss: 1.1316 - val_accuracy: 0.6631\n"
     ]
    },
    {
     "data": {
      "text/plain": [
       "<keras.callbacks.History at 0x27d412ad280>"
      ]
     },
     "execution_count": 14,
     "metadata": {},
     "output_type": "execute_result"
    }
   ],
   "source": [
    "cnn.fit(x = training_set, validation_data = testing_set, epochs = 25)"
   ]
  },
  {
   "cell_type": "markdown",
   "metadata": {
    "id": "OXEpO5LvzhVP"
   },
   "source": [
    "**Making a single prediction**"
   ]
  },
  {
   "cell_type": "code",
   "execution_count": 15,
   "metadata": {
    "id": "AH2VaWXcw6_8"
   },
   "outputs": [],
   "source": [
    "import numpy as np\n",
    "from keras.preprocessing import image"
   ]
  },
  {
   "cell_type": "code",
   "execution_count": 16,
   "metadata": {
    "colab": {
     "base_uri": "https://localhost:8080/"
    },
    "id": "Kg43r3iE1H9e",
    "outputId": "f4081a67-d2ed-42b7-b5eb-61428f7012ec"
   },
   "outputs": [
    {
     "data": {
      "text/plain": [
       "{'cardboard': 0,\n",
       " 'compost': 1,\n",
       " 'glass': 2,\n",
       " 'metal': 3,\n",
       " 'paper': 4,\n",
       " 'plastic': 5,\n",
       " 'trash': 6}"
      ]
     },
     "execution_count": 16,
     "metadata": {},
     "output_type": "execute_result"
    }
   ],
   "source": [
    "training_set.class_indices"
   ]
  },
  {
   "cell_type": "code",
   "execution_count": 38,
   "metadata": {
    "id": "OQ_I4w8QzriK"
   },
   "outputs": [
    {
     "name": "stdout",
     "output_type": "stream",
     "text": [
      "1/1 [==============================] - 0s 21ms/step\n",
      "cardboard\n"
     ]
    }
   ],
   "source": [
    "test_image = tf.keras.utils.load_img('test/glass/glass_test2.jpg', target_size = (64, 64))\n",
    "test_image = tf.keras.utils.img_to_array(test_image)\n",
    "test_image = np.expand_dims(test_image, axis = 0)\n",
    "result = cnn.predict(test_image/255.0)\n",
    "# max_elt = max(result[0])\n",
    "ind = np.argmax(result[0])\n",
    "prediction = ''\n",
    "if ind == 0:\n",
    "  prediction = 'cardboard'\n",
    "elif ind == 1:\n",
    "  prediction = 'compost'\n",
    "elif ind == 2:\n",
    "  prediction = 'glass'\n",
    "elif ind == 3:\n",
    "  prediction = 'metal'\n",
    "elif ind == 4:\n",
    "  prediction = 'paper'\n",
    "elif ind == 5:\n",
    "  prediction = 'plastic'\n",
    "elif ind == 6:\n",
    "  prediction = 'trash'\n",
    "\n",
    "print(prediction)"
   ]
  },
  {
   "cell_type": "code",
   "execution_count": null,
   "metadata": {},
   "outputs": [],
   "source": []
  },
  {
   "cell_type": "code",
   "execution_count": null,
   "metadata": {},
   "outputs": [],
   "source": []
  }
 ],
 "metadata": {
  "colab": {
   "provenance": []
  },
  "kernelspec": {
   "display_name": "Python 3 (ipykernel)",
   "language": "python",
   "name": "python3"
  },
  "language_info": {
   "codemirror_mode": {
    "name": "ipython",
    "version": 3
   },
   "file_extension": ".py",
   "mimetype": "text/x-python",
   "name": "python",
   "nbconvert_exporter": "python",
   "pygments_lexer": "ipython3",
   "version": "3.9.12"
  }
 },
 "nbformat": 4,
 "nbformat_minor": 1
}
